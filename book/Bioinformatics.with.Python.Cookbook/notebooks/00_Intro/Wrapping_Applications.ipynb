{
 "cells": [
  {
   "cell_type": "code",
   "execution_count": 1,
   "metadata": {
    "collapsed": false
   },
   "outputs": [],
   "source": [
    "#Does not work on Windows, probably\n",
    "import multiprocessing\n",
    "import os\n",
    "import shutil\n",
    "import subprocess\n",
    "import tempfile  # cannot use\n",
    "\n",
    "import pexpect  # requires github pexpect"
   ]
  },
  {
   "cell_type": "code",
   "execution_count": 2,
   "metadata": {
    "collapsed": false
   },
   "outputs": [],
   "source": [
    "my_app = '../../broken_app/broken_app.py'"
   ]
  },
  {
   "cell_type": "markdown",
   "metadata": {},
   "source": [
    "## Here we define the wrapper"
   ]
  },
  {
   "cell_type": "code",
   "execution_count": 3,
   "metadata": {
    "collapsed": false
   },
   "outputs": [],
   "source": [
    "def run_batch(pipe, temp_dir, app, op):\n",
    "    os.chdir(temp_dir)\n",
    "    #This is enough to run simple interactive processes\n",
    "    proc = subprocess.Popen(['../' + app], bufsize=1, universal_newlines=True,\n",
    "                            stdin=subprocess.PIPE, stdout=subprocess.PIPE, stderr=subprocess.PIPE)\n",
    "    out, err = proc.communicate('%d\\n' % op)\n",
    "    pipe.send(out.split('\\n')[-1].rstrip())\n",
    "\n",
    "def run_interactive(pipe, temp_dir, app, op):\n",
    "    os.chdir(temp_dir)\n",
    "    c = pexpect.spawnu('../' + app)\n",
    "    c.expect(u'\\?')\n",
    "    #Explain the problem with popen\n",
    "    c.sendline(u'%d' % op)\n",
    "    pipe.send(c.readlines()[-1].rstrip())\n",
    "    os.chdir('..')  # not necessary\n",
    "\n",
    "\n",
    "def run_app(app, op, in_file, out_file, interactive=False):\n",
    "    parent, child = multiprocessing.Pipe()\n",
    "    temp_dir = tempfile.mkdtemp(dir='.')  # Dir should be on the local FS\n",
    "    os.symlink('../%s' % in_file, '%s/in.params' % temp_dir)  # Link, not copy - could be gigantic file\n",
    "    if not interactive:\n",
    "        p = multiprocessing.Process(target=run_batch, args=(child, temp_dir, app, op))\n",
    "    else:\n",
    "        p = multiprocessing.Process(target=run_interactive, args=(child, temp_dir, app, op))\n",
    "    p.start()\n",
    "    line = parent.recv()\n",
    "    p.join()\n",
    "    shutil.rmtree(temp_dir)\n",
    "    #No command-line arguments\n",
    "    #instead of call\n",
    "    #Pipe\n"
   ]
  },
  {
   "cell_type": "markdown",
   "metadata": {},
   "source": [
    "## Using the wrapper"
   ]
  },
  {
   "cell_type": "code",
   "execution_count": 4,
   "metadata": {
    "collapsed": false
   },
   "outputs": [],
   "source": [
    "def create_dummy_input(fname, n1, n2):\n",
    "    w = open(fname, 'w')\n",
    "    w.write('%f\\n%f\\n' % (n1, n2))\n",
    "    w.close()\n",
    "\n",
    "create_dummy_input('my.params', 1.5, 2)\n",
    "op = 1  # subtraction\n",
    "run_app(my_app, op, 'my.params', 'out.result', interactive=True)"
   ]
  },
  {
   "cell_type": "code",
   "execution_count": 5,
   "metadata": {
    "collapsed": false
   },
   "outputs": [
    {
     "data": {
      "text/plain": [
       "['in.params', 'broken_app.py']"
      ]
     },
     "execution_count": 5,
     "metadata": {},
     "output_type": "execute_result"
    }
   ],
   "source": [
    "os.listdir('../../broken_app')"
   ]
  },
  {
   "cell_type": "code",
   "execution_count": 5,
   "metadata": {
    "collapsed": false
   },
   "outputs": [],
   "source": []
  }
 ],
 "metadata": {
  "kernelspec": {
   "display_name": "Python 2",
   "language": "python",
   "name": "python2"
  },
  "language_info": {
   "codemirror_mode": {
    "name": "ipython",
    "version": 2
   },
   "file_extension": ".py",
   "mimetype": "text/x-python",
   "name": "python",
   "nbconvert_exporter": "python",
   "pygments_lexer": "ipython2",
   "version": "2.7.9"
  }
 },
 "nbformat": 4,
 "nbformat_minor": 0
}
