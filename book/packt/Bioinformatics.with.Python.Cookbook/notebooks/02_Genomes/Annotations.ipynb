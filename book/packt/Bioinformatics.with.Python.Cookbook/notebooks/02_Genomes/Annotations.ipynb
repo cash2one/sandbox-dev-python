{
 "cells": [
  {
   "cell_type": "code",
   "execution_count": 1,
   "metadata": {
    "collapsed": false
   },
   "outputs": [
    {
     "name": "stdout",
     "output_type": "stream",
     "text": [
      "--2015-02-18 14:00:45--  http://www.vectorbase.org/download/anopheles-gambiae-pestbasefeaturesagamp42gff3gz\n",
      "Resolving www.vectorbase.org (www.vectorbase.org)... 129.74.255.228\n",
      "Connecting to www.vectorbase.org (www.vectorbase.org)|129.74.255.228|:80... connected.\n",
      "HTTP request sent, awaiting response... 302 Found\n",
      "Location: https://www.vectorbase.org/download/anopheles-gambiae-pestbasefeaturesagamp42gff3gz [following]\n",
      "--2015-02-18 14:00:45--  https://www.vectorbase.org/download/anopheles-gambiae-pestbasefeaturesagamp42gff3gz\n",
      "Connecting to www.vectorbase.org (www.vectorbase.org)|129.74.255.228|:443... connected.\n",
      "HTTP request sent, awaiting response... 302 Found\n",
      "Location: https://www.vectorbase.org/sites/default/files/ftp/downloads/Anopheles-gambiae-PEST_BASEFEATURES_AgamP4.2.gff3.gz [following]\n",
      "--2015-02-18 14:00:47--  https://www.vectorbase.org/sites/default/files/ftp/downloads/Anopheles-gambiae-PEST_BASEFEATURES_AgamP4.2.gff3.gz\n",
      "Reusing existing connection to www.vectorbase.org:443.\n",
      "HTTP request sent, awaiting response... 200 OK\n",
      "Length: 2702601 (2.6M) [application/x-gzip]\n",
      "Saving to: ‘gambiae.gff.gz’\n",
      "\n",
      "100%[======================================>] 2,702,601   1.46MB/s   in 1.8s   \n",
      "\n",
      "2015-02-18 14:00:49 (1.46 MB/s) - ‘gambiae.gff.gz’ saved [2702601/2702601]\n",
      "\n"
     ]
    }
   ],
   "source": [
    "!rm -rf gambiae.g?f.gz ag.db 2>/dev/null\n",
    "#!wget http://www.vectorbase.org/download/anopheles-gambiae-pestbasefeaturesagamp42gtfgz -O gambiae.gtf.gz\n",
    "!wget http://www.vectorbase.org/download/anopheles-gambiae-pestbasefeaturesagamp42gff3gz -O gambiae.gff.gz"
   ]
  },
  {
   "cell_type": "code",
   "execution_count": 2,
   "metadata": {
    "collapsed": false
   },
   "outputs": [],
   "source": [
    "import gffutils\n",
    "import sqlite3"
   ]
  },
  {
   "cell_type": "code",
   "execution_count": 3,
   "metadata": {
    "collapsed": false
   },
   "outputs": [],
   "source": [
    "!rm -f ag.db"
   ]
  },
  {
   "cell_type": "code",
   "execution_count": 4,
   "metadata": {
    "collapsed": false
   },
   "outputs": [],
   "source": [
    "try:\n",
    "    db = gffutils.create_db('gambiae.gff.gz', 'ag.db')\n",
    "except sqlite3.OperationalError:\n",
    "    db = gffutils.FeatureDB('ag.db')"
   ]
  },
  {
   "cell_type": "code",
   "execution_count": 8,
   "metadata": {
    "collapsed": false
   },
   "outputs": [
    {
     "ename": "NameError",
     "evalue": "name 'db' is not defined",
     "output_type": "error",
     "traceback": [
      "\u001b[1;31m---------------------------------------------------------------------------\u001b[0m\n\u001b[1;31mNameError\u001b[0m                                 Traceback (most recent call last)",
      "\u001b[1;32m<ipython-input-8-4d1022b5f3cc>\u001b[0m in \u001b[0;36m<module>\u001b[1;34m()\u001b[0m\n\u001b[1;32m----> 1\u001b[1;33m \u001b[1;32mprint\u001b[0m\u001b[1;33m(\u001b[0m\u001b[0mlist\u001b[0m\u001b[1;33m(\u001b[0m\u001b[0mdb\u001b[0m\u001b[1;33m.\u001b[0m\u001b[0mfeaturetypes\u001b[0m\u001b[1;33m(\u001b[0m\u001b[1;33m)\u001b[0m\u001b[1;33m)\u001b[0m\u001b[1;33m)\u001b[0m\u001b[1;33m\u001b[0m\u001b[0m\n\u001b[0m\u001b[0;32m      2\u001b[0m \u001b[1;32mfor\u001b[0m \u001b[0mfeat_type\u001b[0m \u001b[1;32min\u001b[0m \u001b[0mdb\u001b[0m\u001b[1;33m.\u001b[0m\u001b[0mfeaturetypes\u001b[0m\u001b[1;33m(\u001b[0m\u001b[1;33m)\u001b[0m\u001b[1;33m:\u001b[0m\u001b[1;33m\u001b[0m\u001b[0m\n\u001b[0;32m      3\u001b[0m     \u001b[1;32mprint\u001b[0m\u001b[1;33m(\u001b[0m\u001b[0mfeat_type\u001b[0m\u001b[1;33m,\u001b[0m \u001b[0mdb\u001b[0m\u001b[1;33m.\u001b[0m\u001b[0mcount_features_of_type\u001b[0m\u001b[1;33m(\u001b[0m\u001b[0mfeat_type\u001b[0m\u001b[1;33m)\u001b[0m\u001b[1;33m)\u001b[0m\u001b[1;33m\u001b[0m\u001b[0m\n",
      "\u001b[1;31mNameError\u001b[0m: name 'db' is not defined"
     ]
    }
   ],
   "source": [
    "print(list(db.featuretypes()))\n",
    "for feat_type in db.featuretypes():\n",
    "    print(feat_type, db.count_features_of_type(feat_type))"
   ]
  },
  {
   "cell_type": "code",
   "execution_count": null,
   "metadata": {
    "collapsed": false
   },
   "outputs": [],
   "source": [
    "for contig in db.features_of_type('contig'):\n",
    "    print(contig)"
   ]
  },
  {
   "cell_type": "code",
   "execution_count": null,
   "metadata": {
    "collapsed": false
   },
   "outputs": [],
   "source": [
    "from collections import defaultdict\n",
    "num_mRNAs = defaultdict(int)\n",
    "num_exons = defaultdict(int)\n",
    "max_exons = 0\n",
    "max_span = 0\n",
    "for contig in db.features_of_type('contig'):\n",
    "    cnt = 0\n",
    "    for gene in db.region((contig.seqid, contig.start, contig.end), featuretype='gene'):\n",
    "        cnt += 1\n",
    "        span = abs(gene.start - gene.end) # strand\n",
    "        if span > max_span:\n",
    "            max_span = span\n",
    "            max_span_gene = gene\n",
    "        my_mRNAs = list(db.children(gene, featuretype='mRNA'))\n",
    "        num_mRNAs[len(my_mRNAs)] += 1\n",
    "        if len(my_mRNAs) == 0:\n",
    "            exon_check = [gene]\n",
    "        else:\n",
    "            exon_check = my_mRNAs\n",
    "        for check in exon_check:\n",
    "            my_exons = list(db.children(check, featuretype='exon'))  # level = SLOW\n",
    "            num_exons[len(my_exons)] += 1\n",
    "            if len(my_exons) > max_exons:\n",
    "                max_exons = len(my_exons)\n",
    "                max_exons_gene = gene\n",
    "    print('contig %s, number of genes %d' % (contig.seqid, cnt))\n",
    "print('Max number of exons: %s (%d)' % (max_exons_gene.id, max_exons))\n",
    "print('Max span: %s (%d)' % (max_span_gene.id, max_span))\n",
    "print(num_mRNAs)\n",
    "print(num_exons)"
   ]
  },
  {
   "cell_type": "code",
   "execution_count": null,
   "metadata": {
    "collapsed": false
   },
   "outputs": [],
   "source": []
  }
 ],
 "metadata": {
  "kernelspec": {
   "display_name": "Python 2",
   "language": "python",
   "name": "python2"
  },
  "language_info": {
   "codemirror_mode": {
    "name": "ipython",
    "version": 2
   },
   "file_extension": ".py",
   "mimetype": "text/x-python",
   "name": "python",
   "nbconvert_exporter": "python",
   "pygments_lexer": "ipython2",
   "version": "2.7.9"
  }
 },
 "nbformat": 4,
 "nbformat_minor": 0
}
